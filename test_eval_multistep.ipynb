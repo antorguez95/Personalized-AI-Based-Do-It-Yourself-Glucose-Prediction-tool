{
 "cells": [
  {
   "cell_type": "code",
   "execution_count": null,
   "metadata": {},
   "outputs": [],
   "source": [
    "import os \n",
    "import pandas as pd\n",
    "import numpy as np \n",
    "import matplotlib.pyplot as plt\n",
    "import time \n",
    "import pickle\n",
    "import warnings\n",
    "\n",
    "from utils import *\n",
    "\n",
    "from sensor_params import *\n",
    "\n",
    "from models.training import *\n",
    "\n",
    "from models.multi_step.unet1D_regressor import *\n",
    "from models.multi_step.unet1D_regressor import get_model as get_unet1D\n",
    "\n",
    "# from models.multi_step.unet1D_DIL_regressor import *\n",
    "# from models.multi_step.unet1D_DIL_regressor import get_model as get_DIL_unet1D\n",
    "\n",
    "from models.multi_step.LSTMVanilla import *\n",
    "from models.multi_step.LSTMVanilla import get_model as get_LSTM\n",
    "\n",
    "# from models.multi_step.unet1D_LSTM_regressor import *\n",
    "# from models.multi_step.unet1D_LSTM_regressor import get_model as get_unet1DLSTM\n",
    "\n",
    "# from models.multi_step.unet1D_nonCompres_regressor import *\n",
    "# from models.multi_step.unet1D_nonCompres_regressor import get_model as get_unet1D_nonCompres\n",
    "\n",
    "from evaluation.multi_step import *\n",
    "\n",
    "\n",
    "# Dataset path \n",
    "DATABASE_PATH = r\"C:\\Users\\aralmeida\\OneDrive - Universidad de Las Palmas de Gran Canaria\\Doctorado\\Bases de datos\\WARIFA\\Mikael T1DM\"\n",
    "\n",
    "filename = \"MIKAEL_data.json\"\n",
    "\n",
    "parent_directory = r\"C:\\Users\\aralmeida\\Downloads\"\n",
    "experiments_folder = r\"\\T1DM_pred_experiments\" \n"
   ]
  },
  {
   "cell_type": "code",
   "execution_count": null,
   "metadata": {},
   "outputs": [],
   "source": [
    "N = 144\n",
    "tau = 1\n",
    "PH = 30\n",
    "pred_steps = 6\n",
    "name = 'LSTM36-himar-rep'"
   ]
  },
  {
   "cell_type": "code",
   "execution_count": null,
   "metadata": {},
   "outputs": [],
   "source": [
    "with open(DATABASE_PATH+'\\CGM.pk1', 'rb') as f:\n",
    "    sgv_data_dict = pickle.load(f)\n",
    "os.chdir(parent_directory)"
   ]
  },
  {
   "cell_type": "code",
   "execution_count": null,
   "metadata": {},
   "outputs": [],
   "source": [
    "X, Y, X_times, Y_times = get_CGM_X_Y_multistep(sgv_data_dict, sensor_Mikael, N, tau, PH, experiments_folder, plot=False, verbose = 0)"
   ]
  },
  {
   "cell_type": "code",
   "execution_count": null,
   "metadata": {},
   "outputs": [],
   "source": [
    "X_train = X[np.where(X_times[:,N-1] <= pd.to_datetime('2021-05-31 00:00:00'))[0]]\n",
    "Y_train = Y[np.where((Y_times[:,0] < pd.to_datetime('2021-05-30 23:59:59')))[0]]\n",
    "X_test = X[np.where((X_times[:,N-1] > pd.to_datetime('2021-06-01 00:00:00')))[0]]\n",
    "Y_test = Y[np.where((Y_times[:,0] > pd.to_datetime('2021-06-01 00:00:00')))[0]]"
   ]
  },
  {
   "cell_type": "code",
   "execution_count": null,
   "metadata": {},
   "outputs": [],
   "source": [
    "os.chdir(r\"C:\\Users\\aralmeida\\Downloads\\T1DM_pred_experiments\\N144_stride1_step6\\training\")"
   ]
  },
  {
   "cell_type": "code",
   "execution_count": null,
   "metadata": {},
   "outputs": [],
   "source": [
    "# Model prediction\n",
    "model_trained = tf.keras.models.load_model(name+'.h5')\n",
    "Y_pred = model_trained.predict(X_test)"
   ]
  },
  {
   "cell_type": "code",
   "execution_count": null,
   "metadata": {},
   "outputs": [],
   "source": [
    "model_evaluation(name, X_test, Y_test, pred_steps) "
   ]
  },
  {
   "cell_type": "code",
   "execution_count": 15,
   "metadata": {},
   "outputs": [
    {
     "name": "stdout",
     "output_type": "stream",
     "text": [
      "[0.01351351 0.06756757 1.         0.06756757 0.        ]\n",
      "[ 5.  9. 78.  9.  4.]\n"
     ]
    }
   ],
   "source": [
    "a = np.array([5,9,78,9,4])\n",
    "a_norm = (a - np.min(a))/(np.max(a) - np.min(a))\n",
    "print(a_norm)\n",
    "a_denorm = a_norm*(np.max(a) - np.min(a)) + np.min(a)\n",
    "print(a_denorm)"
   ]
  },
  {
   "cell_type": "code",
   "execution_count": 16,
   "metadata": {},
   "outputs": [
    {
     "data": {
      "text/plain": [
       "array([ 4.99999974,  9.00000018, 78.        ,  9.00000018,  4.        ])"
      ]
     },
     "execution_count": 16,
     "metadata": {},
     "output_type": "execute_result"
    }
   ],
   "source": [
    "pred_norm = np.array([0.01351351, 0.06756757, 1, 0.06756757, 0])\n",
    "pred_denorm = pred_norm*(np.max(a) - np.min(a)) + np.min(a)\n",
    "pred_denorm"
   ]
  }
 ],
 "metadata": {
  "kernelspec": {
   "display_name": "T1DM_WARIFA",
   "language": "python",
   "name": "python3"
  },
  "language_info": {
   "codemirror_mode": {
    "name": "ipython",
    "version": 3
   },
   "file_extension": ".py",
   "mimetype": "text/x-python",
   "name": "python",
   "nbconvert_exporter": "python",
   "pygments_lexer": "ipython3",
   "version": "3.10.9"
  },
  "orig_nbformat": 4
 },
 "nbformat": 4,
 "nbformat_minor": 2
}
