{
 "cells": [
  {
   "cell_type": "code",
   "execution_count": null,
   "metadata": {},
   "outputs": [],
   "source": [
    "import os \n",
    "import pandas as pd\n",
    "import numpy as np \n",
    "import matplotlib.pyplot as plt\n",
    "import time \n",
    "import pickle\n",
    "import warnings\n",
    "\n",
    "\n",
    "from utils import *\n",
    "\n",
    "from sensor_params import *\n",
    "\n",
    "from models.training import *\n",
    "\n",
    "from models.multi_step.unet1D_regressor import *\n",
    "from models.multi_step.unet1D_regressor import get_model as get_unet1D\n",
    "\n",
    "# from models.multi_step.unet1D_DIL_regressor import *\n",
    "# from models.multi_step.unet1D_DIL_regressor import get_model as get_DIL_unet1D\n",
    "\n",
    "from models.multi_step.LSTMVanilla import *\n",
    "from models.multi_step.LSTMVanilla import get_model as get_LSTM\n",
    "\n",
    "from models.multi_step.StackedLSTM import *\n",
    "from models.multi_step.StackedLSTM import get_model as get_StackedLSTM\n",
    "\n",
    "# from models.multi_step.unet1D_LSTM_regressor import *\n",
    "# from models.multi_step.unet1D_LSTM_regressor import get_model as get_unet1DLSTM\n",
    "\n",
    "# from models.multi_step.unet1D_nonCompres_regressor import *\n",
    "# from models.multi_step.unet1D_nonCompres_regressor import get_model as get_unet1D_nonCompres\n",
    "\n",
    "from evaluation.multi_step.evaluation import model_evaluation\n",
    "\n",
    "# Dataset path \n",
    "DATABASE_PATH = r\"C:\\Users\\aralmeida\\OneDrive - Universidad de Las Palmas de Gran Canaria\\Doctorado\\Bases de datos\\WARIFA\\Mikael T1DM\"\n",
    "\n",
    "filename = \"MIKAEL_data.json\"\n",
    "\n",
    "parent_directory = r\"C:\\Users\\aralmeida\\Downloads\"\n",
    "experiments_folder = r\"\\T1DM_pred_experiments\" "
   ]
  },
  {
   "cell_type": "code",
   "execution_count": null,
   "metadata": {},
   "outputs": [],
   "source": [
    "# Load data from sgv_data. If executed, comment the line and load the data from the pickle file\n",
    "# data , basal_data_dict, blood_pressure_dict, bolus_data_dict, exercise_data_dict, carbohydrates_data_dict, pump_events_data_dict, sgv_data_dict, sleep_data_dict, smgb_data_dict, steps_data_dict, weight_dict  = extract_Mikael_data(DATABASE_PATH, filename, ONLY_CGM = True)\n",
    "with open(DATABASE_PATH+'\\CGM.pk1', 'rb') as f:\n",
    "    sgv_data_dict = pickle.load(f)\n",
    "os.chdir(parent_directory)"
   ]
  },
  {
   "cell_type": "code",
   "execution_count": null,
   "metadata": {},
   "outputs": [],
   "source": [
    "# Dataset generation parameters\n",
    "sensor = sensor_Mikael\n",
    "N = 144\n",
    "step = 1\n",
    "PH = 30\n",
    "pred_steps = round(PH/sensor_Mikael[\"SAMPLE_PERIOD\"])\n",
    "single_multi_step = 'multi_step' # 'single' or 'multi'\n",
    "data_partition = 'june-21' # could be 'month-wise\n",
    "normalization = 'min-max'\n",
    "under_over_sampling = 'None'\n",
    "name = '1DUNET_himar-rep'"
   ]
  },
  {
   "cell_type": "code",
   "execution_count": null,
   "metadata": {},
   "outputs": [],
   "source": [
    "key = update_results_dictionary(parent_directory, experiments_folder, sensor, single_multi_step, N, step, PH, data_partition, normalization, under_over_sampling, name) "
   ]
  },
  {
   "cell_type": "code",
   "execution_count": null,
   "metadata": {},
   "outputs": [],
   "source": [
    "X, Y, X_times, Y_times = get_CGM_X_Y_multistep(sgv_data_dict, sensor, N, step, PH, experiments_folder, plot=False, verbose = 0)"
   ]
  },
  {
   "cell_type": "code",
   "execution_count": null,
   "metadata": {},
   "outputs": [],
   "source": [
    "# Min-max normalization\n",
    "if normalization == 'min-max':\n",
    "    X_norm = (X - np.min(X))/(np.max(X) - np.min(X))\n",
    "    Y_norm = (Y - np.min(X))/(np.max(X) - np.min(X))\n",
    "elif normalization == None: \n",
    "    X_norm = X\n",
    "    Y_norm = Y"
   ]
  },
  {
   "cell_type": "code",
   "execution_count": null,
   "metadata": {},
   "outputs": [],
   "source": [
    "if data_partition == 'june-21':\n",
    "    \n",
    "    # Simple partition (imitating Himar work for comparison): X_train until 30/05/2021 and X_test from 31/05/2021\n",
    "    # Instances that include two days are removed\n",
    "    X_train = X_norm[np.where(X_times[:,N-1] <= pd.to_datetime('2021-05-31 00:00:00'))[0]]\n",
    "    Y_train = Y_norm[np.where((Y_times[:,0] < pd.to_datetime('2021-05-30 23:59:59')))[0]]\n",
    "    X_test = X_norm[np.where((X_times[:,N-1] > pd.to_datetime('2021-06-01 00:00:00')))[0]]\n",
    "    Y_test = Y_norm[np.where((Y_times[:,0] > pd.to_datetime('2021-06-01 00:00:00')))[0]] # Left non-normalized to compute the metrics\n",
    "\n",
    "    print(\"X_train shape: \",str(X_train.shape))\n",
    "    print(\"Y_train shape: \",str(Y_train.shape))\n",
    "    print(\"X_test shape: \",str(X_test.shape))\n",
    "    print(\"Y_test shape: \",str(Y_test.shape))\n",
    "\n",
    "elif data_partition == 'month-wise-4-folds':\n",
    "    pass"
   ]
  },
  {
   "cell_type": "code",
   "execution_count": null,
   "metadata": {},
   "outputs": [],
   "source": [
    "if under_over_sampling == 'under':\n",
    "    X_train, Y_train  = undersample_normal_range_outputs(X, X_train, Y_train, multi_step = True, normalization = normalization, undersampling_factor = 2)\n",
    "else : \n",
    "    pass"
   ]
  },
  {
   "cell_type": "code",
   "execution_count": null,
   "metadata": {},
   "outputs": [],
   "source": [
    "# Parameters for training\n",
    "# Best parameters for the model N 48\n",
    "lr = 0.0001\n",
    "batch_size = 2\n",
    "epochs = 10\n",
    "\n",
    "# Model hyperparameters\n",
    "kernel_size = 3\n",
    "stride = 1\n",
    "\n",
    "# lr = 0.001\n",
    "# batch_size = 2\n",
    "# epochs = 10\n",
    "# kernel_size = 3"
   ]
  },
  {
   "cell_type": "code",
   "execution_count": null,
   "metadata": {},
   "outputs": [],
   "source": [
    "lr = 0.0001\n",
    "batch_size = 256\n",
    "epochs = 1"
   ]
  },
  {
   "cell_type": "code",
   "execution_count": null,
   "metadata": {},
   "outputs": [],
   "source": [
    "# Get model instance depending on the name\n",
    "################### CNNs/ UNETs ###################\n",
    "if name == '1DUNET_himar-rep':\n",
    "    model =  get_unet1D(sensor = sensor_Mikael,\n",
    "                    N=N,\n",
    "                    input_features = NUMBER_OF_INPUT_SIGNALS,\n",
    "                    tau=stride,\n",
    "                    kernel_size=kernel_size,\n",
    "                    PH=PH)\n",
    "\n",
    "elif name == '1DUNET-non-compres_himar-rep':\n",
    "    # model =  get_unet1D_nonCompres(N=N,\n",
    "    #                 input_features = NUMBER_OF_INPUT_SIGNALS,\n",
    "    #                 tau=tau,\n",
    "    #                 kernel_size=kernel_size,\n",
    "    #                 predicted_points=1)\n",
    "    pass\n",
    "\n",
    "elif name == '1DUNET-DIL_himar-rep':\n",
    "    # model =  get_DIL_unet1D(N=N,\n",
    "    #                 input_features = NUMBER_OF_INPUT_SIGNALS,\n",
    "    #                 tau=tau,\n",
    "    #                 kernel_size=kernel_size,\n",
    "    #                 dilation_rate=1,  \n",
    "    #                 predicted_points=1)\n",
    "    pass\n",
    "\n",
    "################### LSTMs ###################\n",
    "elif name == 'LSTM_himar-rep':\n",
    "    model =  get_LSTM(sensor = sensor_Mikael,\n",
    "                    N=int(N),\n",
    "                    input_features = NUMBER_OF_INPUT_SIGNALS,\n",
    "                    PH=PH)\n",
    "\n",
    "elif name == 'StackedLSTM_himar-rep':\n",
    "    model =  get_StackedLSTM(sensor = sensor_Mikael,\n",
    "                    N=N,\n",
    "                    input_features = NUMBER_OF_INPUT_SIGNALS,\n",
    "                    PH=PH)\n",
    "\n",
    "\n",
    "################### Hybryds ###################\n",
    "elif name == '1DUNET-LSTM_himar-rep':\n",
    "    # model =  get_unet1DLSTM(N=N,\n",
    "    #                 input_features = NUMBER_OF_INPUT_SIGNALS,\n",
    "    #                 tau=tau,\n",
    "    #                 kernel_size=kernel_size,\n",
    "    #                 predicted_points=1)\n",
    "    pass\n",
    "\n",
    "else: \n",
    "    raise ValueError(\"Model name not valid\")"
   ]
  },
  {
   "cell_type": "code",
   "execution_count": null,
   "metadata": {},
   "outputs": [],
   "source": [
    "train_model(sensor,\n",
    "            model,\n",
    "            X = X_train,\n",
    "            Y = Y_train,\n",
    "            N = N,\n",
    "            predicted_points = pred_steps, \n",
    "            epochs = epochs,\n",
    "            batch_size = batch_size,\n",
    "            lr = lr,\n",
    "            verbose = 1, \n",
    "            fold = name)"
   ]
  },
  {
   "cell_type": "code",
   "execution_count": null,
   "metadata": {},
   "outputs": [],
   "source": [
    "# Open dictionary to update the metrics results \n",
    "with open(parent_directory+experiments_folder+r'\\results_dictionary.json', 'rb') as handle:\n",
    "    results_dictionary = json.load(handle)"
   ]
  },
  {
   "cell_type": "code",
   "execution_count": null,
   "metadata": {},
   "outputs": [],
   "source": [
    "# Model evaluation\n",
    "results = model_evaluation(results_dictionary, N, PH, name, normalization, X_test, Y_test, pred_steps, X)"
   ]
  },
  {
   "cell_type": "code",
   "execution_count": null,
   "metadata": {},
   "outputs": [],
   "source": [
    "# Save the results of this model in its proper entry in the results dictionary \n",
    "results_dictionary[key] = results \n",
    "\n",
    "# Save updated dictionary \n",
    "with open('results_dictionary.json', 'w') as fp:\n",
    "        json.dump(results_dictionary, fp)     "
   ]
  },
  {
   "cell_type": "code",
   "execution_count": null,
   "metadata": {},
   "outputs": [],
   "source": [
    "results_dictionary"
   ]
  }
 ],
 "metadata": {
  "kernelspec": {
   "display_name": "WARIFA_AI",
   "language": "python",
   "name": "python3"
  },
  "language_info": {
   "codemirror_mode": {
    "name": "ipython",
    "version": 3
   },
   "file_extension": ".py",
   "mimetype": "text/x-python",
   "name": "python",
   "nbconvert_exporter": "python",
   "pygments_lexer": "ipython3",
   "version": "3.10.9"
  },
  "orig_nbformat": 4
 },
 "nbformat": 4,
 "nbformat_minor": 2
}
