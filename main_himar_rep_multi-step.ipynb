{
 "cells": [
  {
   "cell_type": "code",
   "execution_count": 1,
   "metadata": {},
   "outputs": [],
   "source": [
    "import os \n",
    "import pandas as pd\n",
    "import numpy as np \n",
    "import matplotlib.pyplot as plt\n",
    "import time \n",
    "import pickle\n",
    "import warnings\n",
    "\n",
    "\n",
    "from utils import *\n",
    "\n",
    "from sensor_params import *\n",
    "\n",
    "from models.training import *\n",
    "\n",
    "from models.multi_step.unet1D_regressor import *\n",
    "from models.multi_step.unet1D_regressor import get_model as get_unet1D\n",
    "\n",
    "# from models.multi_step.unet1D_DIL_regressor import *\n",
    "# from models.multi_step.unet1D_DIL_regressor import get_model as get_DIL_unet1D\n",
    "\n",
    "from models.multi_step.LSTMVanilla import *\n",
    "from models.multi_step.LSTMVanilla import get_model as get_LSTM\n",
    "\n",
    "from models.multi_step.StackedLSTM import *\n",
    "from models.multi_step.StackedLSTM import get_model as get_StackedLSTM\n",
    "\n",
    "# from models.multi_step.unet1D_LSTM_regressor import *\n",
    "# from models.multi_step.unet1D_LSTM_regressor import get_model as get_unet1DLSTM\n",
    "\n",
    "# from models.multi_step.unet1D_nonCompres_regressor import *\n",
    "# from models.multi_step.unet1D_nonCompres_regressor import get_model as get_unet1D_nonCompres\n",
    "\n",
    "from evaluation.multi_step import *\n",
    "\n",
    "\n",
    "# Dataset path \n",
    "DATABASE_PATH = r\"C:\\Users\\aralmeida\\OneDrive - Universidad de Las Palmas de Gran Canaria\\Doctorado\\Bases de datos\\WARIFA\\Mikael T1DM\"\n",
    "\n",
    "filename = \"MIKAEL_data.json\"\n",
    "\n",
    "parent_directory = r\"C:\\Users\\aralmeida\\Downloads\"\n",
    "experiments_folder = r\"\\T1DM_pred_experiments\" "
   ]
  },
  {
   "cell_type": "code",
   "execution_count": 2,
   "metadata": {},
   "outputs": [],
   "source": [
    "# Load data from sgv_data. If executed, comment the line and load the data from the pickle file\n",
    "# data , basal_data_dict, blood_pressure_dict, bolus_data_dict, exercise_data_dict, carbohydrates_data_dict, pump_events_data_dict, sgv_data_dict, sleep_data_dict, smgb_data_dict, steps_data_dict, weight_dict  = extract_Mikael_data(DATABASE_PATH, filename, ONLY_CGM = True)\n",
    "with open(DATABASE_PATH+'\\CGM.pk1', 'rb') as f:\n",
    "    sgv_data_dict = pickle.load(f)\n",
    "os.chdir(parent_directory)"
   ]
  },
  {
   "cell_type": "code",
   "execution_count": 3,
   "metadata": {},
   "outputs": [],
   "source": [
    "# Dataset generation parameters\n",
    "N = 144\n",
    "step = 1\n",
    "PH = 60\n",
    "pred_steps = round(PH/sensor_Mikael[\"SAMPLE_PERIOD\"])\n",
    "name = 'StackedLSTM-minmax-himar-rep'"
   ]
  },
  {
   "cell_type": "code",
   "execution_count": 4,
   "metadata": {},
   "outputs": [
    {
     "name": "stdout",
     "output_type": "stream",
     "text": [
      "Number of blocks is 335\n",
      "\n"
     ]
    }
   ],
   "source": [
    "X, Y, X_times, Y_times = get_CGM_X_Y_multistep(sgv_data_dict, sensor_Mikael, N, step, PH, experiments_folder, plot=False, verbose = 0)"
   ]
  },
  {
   "cell_type": "code",
   "execution_count": 5,
   "metadata": {},
   "outputs": [],
   "source": [
    "# Min-max normalization\n",
    "X_norm = (X - np.min(X))/(np.max(X) - np.min(X))\n",
    "Y_norm = (Y - np.min(X))/(np.max(X) - np.min(X))"
   ]
  },
  {
   "cell_type": "code",
   "execution_count": 6,
   "metadata": {},
   "outputs": [
    {
     "name": "stdout",
     "output_type": "stream",
     "text": [
      "X_train shape:  (113418, 144)\n",
      "Y_train shape:  (113418, 12)\n",
      "X_test shape:  (42797, 144)\n",
      "Y_test shape:  (42797, 12)\n"
     ]
    }
   ],
   "source": [
    "# Simple partition (imitating Himar work for comparison): X_train until 30/05/2021 and X_test from 31/05/2021\n",
    "# Instances that include two days are removed\n",
    "X_train = X_norm[np.where(X_times[:,N-1] <= pd.to_datetime('2021-05-31 00:00:00'))[0]]\n",
    "Y_train = Y_norm[np.where((Y_times[:,0] < pd.to_datetime('2021-05-30 23:59:59')))[0]]\n",
    "X_test = X_norm[np.where((X_times[:,N-1] > pd.to_datetime('2021-06-01 00:00:00')))[0]]\n",
    "Y_test = Y[np.where((Y_times[:,0] > pd.to_datetime('2021-06-01 00:00:00')))[0]] # Left non-normalized to compute the metrics\n",
    "\n",
    "print(\"X_train shape: \",str(X_train.shape))\n",
    "print(\"Y_train shape: \",str(Y_train.shape))\n",
    "print(\"X_test shape: \",str(X_test.shape))\n",
    "print(\"Y_test shape: \",str(Y_test.shape))"
   ]
  },
  {
   "cell_type": "code",
   "execution_count": 7,
   "metadata": {},
   "outputs": [],
   "source": [
    "# Parameters for training\n",
    "# Best parameters for the model N 48\n",
    "lr = 0.0001\n",
    "batch_size = 2\n",
    "epochs = 10\n",
    "\n",
    "# Model hyperparameters\n",
    "kernel_size = 3\n",
    "stride = 1\n",
    "\n",
    "# lr = 0.001\n",
    "# batch_size = 2\n",
    "# epochs = 10\n",
    "# kernel_size = 3"
   ]
  },
  {
   "cell_type": "code",
   "execution_count": null,
   "metadata": {},
   "outputs": [],
   "source": [
    "# Get model instance\n",
    "################### CNNs/ UNETs ###################\n",
    "model =  get_unet1D(sensor = sensor_Mikael,\n",
    "                N=N,\n",
    "                input_features = NUMBER_OF_INPUT_SIGNALS,\n",
    "                tau=stride,\n",
    "                kernel_size=kernel_size,\n",
    "                PH=PH)\n",
    "print(model.summary())\n",
    "# model =  get_unet1D_nonCompres(N=N,\n",
    "#                 input_features = NUMBER_OF_INPUT_SIGNALS,\n",
    "#                 tau=tau,\n",
    "#                 kernel_size=kernel_size,\n",
    "#                 predicted_points=1)\n",
    "\n",
    "# model =  get_DIL_unet1D(N=N,\n",
    "#                 input_features = NUMBER_OF_INPUT_SIGNALS,\n",
    "#                 tau=tau,\n",
    "#                 kernel_size=kernel_size,\n",
    "#                 dilation_rate=1,  \n",
    "#                 predicted_points=1)\n",
    "\n",
    "################### LSTMs ###################\n",
    "model =  get_LSTM(sensor = sensor_Mikael,\n",
    "                N=int(N),\n",
    "                input_features = NUMBER_OF_INPUT_SIGNALS,\n",
    "                PH=PH)\n",
    "\n",
    "model =  get_StackedLSTM(sensor = sensor_Mikael,\n",
    "                N=N,\n",
    "                input_features = NUMBER_OF_INPUT_SIGNALS,\n",
    "                PH=PH)\n",
    "\n",
    "\n",
    "################### Hybryds ###################\n",
    "# model =  get_unet1DLSTM(N=N,\n",
    "#                 input_features = NUMBER_OF_INPUT_SIGNALS,\n",
    "#                 tau=tau,\n",
    "#                 kernel_size=kernel_size,\n",
    "#                 predicted_points=1)"
   ]
  },
  {
   "cell_type": "code",
   "execution_count": null,
   "metadata": {},
   "outputs": [],
   "source": [
    "train_model(model,\n",
    "            X = X_train,\n",
    "            Y = Y_train,\n",
    "            N = N,\n",
    "            stride = stride,             \n",
    "            kernel_size = kernel_size,\n",
    "            predicted_points = pred_steps, \n",
    "            sensor = sensor_Mikael,\n",
    "            epochs = epochs,\n",
    "            batch_size = batch_size,\n",
    "            lr = lr,\n",
    "            verbose = 1, \n",
    "            fold = name)"
   ]
  },
  {
   "cell_type": "code",
   "execution_count": null,
   "metadata": {},
   "outputs": [],
   "source": [
    "model_evaluation(N, PH, name, X_test, Y_test, pred_steps, X) "
   ]
  }
 ],
 "metadata": {
  "kernelspec": {
   "display_name": "WARIFA_AI",
   "language": "python",
   "name": "python3"
  },
  "language_info": {
   "codemirror_mode": {
    "name": "ipython",
    "version": 3
   },
   "file_extension": ".py",
   "mimetype": "text/x-python",
   "name": "python",
   "nbconvert_exporter": "python",
   "pygments_lexer": "ipython3",
   "version": "3.10.9"
  },
  "orig_nbformat": 4
 },
 "nbformat": 4,
 "nbformat_minor": 2
}
