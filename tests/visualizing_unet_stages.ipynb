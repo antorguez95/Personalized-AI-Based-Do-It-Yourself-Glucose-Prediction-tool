{
 "cells": [
  {
   "cell_type": "code",
   "execution_count": null,
   "metadata": {},
   "outputs": [],
   "source": [
    "from tensorflow.keras import layers, Input, Model\n",
    "import tensorflow as tf\n",
    "import matplotlib.pyplot as plt"
   ]
  },
  {
   "cell_type": "code",
   "execution_count": null,
   "metadata": {},
   "outputs": [],
   "source": [
    "from models.DIL_unet1D_regressor import encoding_block, decoding_block"
   ]
  },
  {
   "cell_type": "code",
   "execution_count": null,
   "metadata": {},
   "outputs": [],
   "source": [
    "N = 144\n",
    "input_features = 1\n",
    "kernel_size = 3\n",
    "tau = 1\n",
    "dilation_rate = 1\n",
    "\n",
    "predicted_points = 1\n"
   ]
  },
  {
   "cell_type": "code",
   "execution_count": null,
   "metadata": {},
   "outputs": [],
   "source": [
    "import numpy as np\n",
    "x =np.array([48, 264, 269, 270, 271, 268, 269, 269, 267, 266, 263,\n",
    "       265, 265, 261, 256, 248, 242, 236, 229, 221, 214, 207,\n",
    "       199, 192, 185, 179, 172, 166, 160, 155, 150, 145, 140,\n",
    "       136, 127, 120, 114, 115, 114, 113, 112, 112, 109, 108,\n",
    "       108, 108, 110, 103, 105, 108, 111, 114, 118, 123, 126,\n",
    "       128, 124, 132, 131, 129, 127, 125, 115, 104,  96,  89,\n",
    "        85,  81,  77,  66,  61,  59,  61,  68,  64,  58,  55,\n",
    "        55,  58,  61,  69,  73,  73,  79,  95, 114, 132, 143,\n",
    "       156, 174, 186, 193, 196, 197, 195, 189, 185, 180, 170,\n",
    "       162, 153, 148, 141, 135, 128, 123, 119, 117, 115, 114,\n",
    "       111, 109, 106, 104, 103, 100,  99,  92,  91,  86,  80,\n",
    "        72,  63,  60,  65,  69,  79,  87,  94, 103, 105, 103,\n",
    "       106, 103,  99,  93,  89,  87,  87,  86,  89,  93,  99,\n",
    "       103])\n",
    "# to float \n",
    "x = x.astype(np.float32)"
   ]
  },
  {
   "cell_type": "code",
   "execution_count": 55,
   "metadata": {},
   "outputs": [
    {
     "name": "stdout",
     "output_type": "stream",
     "text": [
      "X before reshape:  (None, 144, 1)\n",
      "X after reshape:  (None, 1, 144)\n",
      "X after timeDistributed 1:  (None, 1, 144)\n",
      "X after timeDistributed 2:  (None, 1, 32)\n",
      "X after timeDistributed 3:  (None, 1, 8)\n",
      "X after timeDistributed 4:  (None, 1, 2)\n",
      "Output shape:  (None, 1, 1)\n"
     ]
    }
   ],
   "source": [
    "# Returns a CNN-model instance \n",
    "def get_model(N: int = 144, input_features: int = 1,\n",
    "              tau : int = 1, kernel_size : int = 3, dilation_rate : int = 1, predicted_points : int = 1) -> Model:\n",
    "    \"\"\"Returns the model described in [1].\n",
    "\n",
    "    Args:\n",
    "    -----\n",
    "        N (int): Number of samples in the input tensor. Must be multiple of 2. Default: CGM_INPUT_POINTS.\n",
    "        input_features (int): Number of features in the input tensor. Default: NUMBER_OF_INPUT_SIGNALS.\n",
    "        tau (int): Stride of the convolutional layers. Default: 1, as [1]\n",
    "        kernel_size (int): Kernel size of the convolutional layers. Default: 3, as [1]\n",
    "        output_points (int): Number of predictied points (time dimension) Default: 1.\n",
    "    \n",
    "    Returns:\n",
    "    --------\n",
    "        model (Model): CNN-model instance.\n",
    "    \n",
    "    References:\n",
    "    -----------\n",
    "        [1] F. Renna, J. Oliveira and M. T. Coimbra, \"Deep Convolutional Neural\n",
    "        Networks for Heart Sound Segmentation,\" in IEEE Journal of Biomedical\n",
    "        and Health Informatics, vol. 23, no. 6, pp. 2435-2445, Nov. 2019, doi:\n",
    "        10.1109/JBHI.2019.2894222.\n",
    "    \"\"\"\n",
    "    # Input tensor\n",
    "    input = Input(shape=(N, input_features)) \n",
    "\n",
    "    # Encoding phase of the network: downsampling inputs \n",
    "    x, res_1 = encoding_block(input, filters=input_features*2, kernel_size=kernel_size, stride = tau, activation = \"relu\", padding = \"same\", dilation_rate = dilation_rate, name_prefix = \"enc_0\")\n",
    "    x, res_2 = encoding_block(x, filters=input_features*4, kernel_size=kernel_size, stride = tau, activation = \"relu\", padding = \"same\", dilation_rate = dilation_rate, name_prefix = \"enc_1\")\n",
    "    x, res_3 = encoding_block(x, filters=input_features*8, kernel_size=kernel_size, stride = tau, activation = \"relu\", padding = \"same\", dilation_rate = dilation_rate, name_prefix = \"enc_2\")\n",
    "    x, res_4 = encoding_block(x, filters=input_features*16, kernel_size=kernel_size, stride = tau, activation = \"relu\", padding = \"same\", dilation_rate = dilation_rate, name_prefix = \"enc_3\")\n",
    "\n",
    "    # Intermediate layer \n",
    "    # 2 x ( Conv + ReLU )\n",
    "    x = layers.Conv1D(filters=input_features*32, kernel_size=kernel_size, strides=1, activation=\"relu\", padding=\"same\", dilation_rate = dilation_rate, name='central_conv_relu_0')(x)\n",
    "    x = layers.Conv1D(filters=input_features*32, kernel_size=kernel_size, strides=1, activation=\"relu\", padding=\"same\", dilation_rate = dilation_rate, name='central_conv_relu_1')(x)\n",
    "       \n",
    "    # Decoding phase of the network: upsampling inputs\n",
    "    x = decoding_block(x, res_4, filters=input_features*16, kernel_size=kernel_size, stride = tau, activation = \"relu\", padding = \"same\", dilation_rate = dilation_rate, name_prefix = \"dec_0\")\n",
    "    x = decoding_block(x, res_3, filters=input_features*8, kernel_size=kernel_size, stride = tau, activation = \"relu\", padding = \"same\", dilation_rate = dilation_rate, name_prefix = \"dec_1\")\n",
    "    x = decoding_block(x, res_2, filters=input_features*4, kernel_size=kernel_size, stride = tau, activation = \"relu\", padding = \"same\", dilation_rate = dilation_rate, name_prefix = \"dec_2\")\n",
    "    x = decoding_block(x, res_1, filters=input_features*2, kernel_size=kernel_size, stride = tau, activation = \"relu\", padding = \"same\", dilation_rate = dilation_rate, name_prefix = \"dec_3\")\n",
    "\n",
    "    # Output of the model (modified from [1] to switch from classification to regression) \n",
    "    x = layers.Conv1D(filters=predicted_points, kernel_size=kernel_size, strides=tau, padding=\"same\", dilation_rate = dilation_rate, name='final_conv')(x)\n",
    "\n",
    "    # Ouput layer is a regression layer of 1 point\n",
    "    # output = layers.Dense(predicted_points)(x)\n",
    "\n",
    "    # Reshape x to be a 3D tensor\n",
    "    x = layers.Reshape((1, N), input_shape=(N, 1))(x)\n",
    "\n",
    "    # Add timeDistributed layer\n",
    "    x = layers.TimeDistributed(layers.Dense(N))(x)\n",
    "    x = layers.TimeDistributed(layers.Dense(32))(x)\n",
    "    x = layers.TimeDistributed(layers.Dense(8))(x)\n",
    "    x = layers.TimeDistributed(layers.Dense(2))(x)\n",
    "\n",
    "    # Once flattened, add a dense layer to predict the output\n",
    "    output = layers.Dense(predicted_points)(x)\n",
    "\n",
    "    # Define the model\n",
    "    model = Model(input, output)"
   ]
  },
  {
   "cell_type": "code",
   "execution_count": null,
   "metadata": {},
   "outputs": [],
   "source": [
    "get_model"
   ]
  },
  {
   "cell_type": "code",
   "execution_count": null,
   "metadata": {},
   "outputs": [],
   "source": []
  }
 ],
 "metadata": {
  "kernelspec": {
   "display_name": "T1DM_WARIFA",
   "language": "python",
   "name": "python3"
  },
  "language_info": {
   "codemirror_mode": {
    "name": "ipython",
    "version": 3
   },
   "file_extension": ".py",
   "mimetype": "text/x-python",
   "name": "python",
   "nbconvert_exporter": "python",
   "pygments_lexer": "ipython3",
   "version": "3.10.9"
  },
  "orig_nbformat": 4
 },
 "nbformat": 4,
 "nbformat_minor": 2
}
