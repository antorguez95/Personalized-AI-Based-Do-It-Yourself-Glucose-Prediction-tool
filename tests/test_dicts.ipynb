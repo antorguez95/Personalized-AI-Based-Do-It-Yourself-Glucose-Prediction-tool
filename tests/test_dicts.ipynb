{
 "cells": [
  {
   "cell_type": "code",
   "execution_count": null,
   "metadata": {},
   "outputs": [],
   "source": [
    "import os \n",
    "import pandas as pd\n",
    "import numpy as np \n",
    "import matplotlib.pyplot as plt\n",
    "\n",
    "from utils import *\n",
    "\n",
    "from sensor_params import *\n",
    "\n",
    "# Dataset path \n",
    "DATABASE_PATH = r\"C:\\Users\\aralmeida\\OneDrive - Universidad de Las Palmas de Gran Canaria\\Doctorado\\Bases de datos\\WARIFA\\Mikael T1DM\"\n",
    "\n",
    "filename = \"MIKAEL_data.json\"\n",
    "\n",
    "parent_directory = r\"C:\\Users\\aralmeida\\Downloads\"\n",
    "experiments_folder = r\"\\T1DM_pred_experiments\" "
   ]
  },
  {
   "cell_type": "code",
   "execution_count": null,
   "metadata": {},
   "outputs": [],
   "source": [
    "results_dictionary = create_results_dictionary(parent_directory, experiments_folder)"
   ]
  },
  {
   "cell_type": "code",
   "execution_count": null,
   "metadata": {},
   "outputs": [],
   "source": [
    "# Dataset generation parameters\n",
    "sensor = sensor_Mikael\n",
    "N = 96\n",
    "step = 1\n",
    "PH = 30\n",
    "pred_steps = round(PH/sensor_Mikael[\"SAMPLE_PERIOD\"])\n",
    "single_multi_step = 'multi_step' # 'single' or 'multi'\n",
    "data_partition = 'june-21' # could be 'month-wise\n",
    "normalization = 'min-max'\n",
    "under_over_sampling = 'None'\n",
    "name = '1DUNET_himar-rep'"
   ]
  },
  {
   "cell_type": "code",
   "execution_count": null,
   "metadata": {},
   "outputs": [],
   "source": [
    "# key = update_results_dictionary(parent_directory, experiments_folder, sensor, single_multi_step, N, step, PH, data_partition, normalization, under_over_sampling, name) \n",
    "key = get_dictionary_key(sensor, single_multi_step, N, step, PH, data_partition, normalization, under_over_sampling, name)\n",
    "\n",
    "# Store results in a dictionary to further add it to the results dictionary \n",
    "results = {'RMSE': 1, 'MAE': 2, 'MAPE': 3, 'ISO': 4, 'PARKES': 5, 'time_lag' : 0}\n",
    "\n",
    "# Save the results of this model in its proper entry in the results dictionary \n",
    "results_dictionary[key] = results \n",
    "\n",
    "# Save updated dictionary \n",
    "# with open('results_dictionary.json', 'w') as fp:\n",
    "#         json.dump(results_dictionary, fp) "
   ]
  },
  {
   "cell_type": "code",
   "execution_count": null,
   "metadata": {},
   "outputs": [],
   "source": [
    "sensor = sensor_Mikael\n",
    "N = 96\n",
    "step = 1\n",
    "PH = 600\n",
    "pred_steps = round(PH/sensor_Mikael[\"SAMPLE_PERIOD\"])\n",
    "single_multi_step = 'multi_step' # 'single' or 'multi'\n",
    "data_partition = 'june-21' # could be 'month-wise\n",
    "normalization = 'min-max'\n",
    "under_over_sampling = 'None'\n",
    "name = '1DUNET_himar-rep'\n",
    "\n",
    "# key = update_results_dictionary(parent_directory, experiments_folder, sensor, single_multi_step, N, step, PH, data_partition, normalization, under_over_sampling, name) \n",
    "key = get_dictionary_key(sensor, single_multi_step, N, step, PH, data_partition, normalization, under_over_sampling, name)\n",
    "\n",
    "# Store results in a dictionary to further add it to the results dictionary \n",
    "results = {'RMSE': 100, 'MAE': 200, 'MAPE': 300, 'ISO': 400, 'PARKES': 500, 'time_lag' : 0}\n",
    "\n",
    "# Save the results of this model in its proper entry in the results dictionary \n",
    "results_dictionary[key] = results \n",
    "\n",
    "# Save updated dictionary \n",
    "with open('results_dictionary.json', 'w') as fp:\n",
    "        json.dump(results_dictionary, fp) "
   ]
  },
  {
   "cell_type": "code",
   "execution_count": null,
   "metadata": {},
   "outputs": [],
   "source": [
    "results_dictionary"
   ]
  }
 ],
 "metadata": {
  "kernelspec": {
   "display_name": "T1DM_WARIFA",
   "language": "python",
   "name": "python3"
  },
  "language_info": {
   "codemirror_mode": {
    "name": "ipython",
    "version": 3
   },
   "file_extension": ".py",
   "mimetype": "text/x-python",
   "name": "python",
   "nbconvert_exporter": "python",
   "pygments_lexer": "ipython3",
   "version": "3.10.9"
  },
  "orig_nbformat": 4
 },
 "nbformat": 4,
 "nbformat_minor": 2
}
