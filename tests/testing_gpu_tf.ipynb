{
 "cells": [
  {
   "cell_type": "code",
   "execution_count": null,
   "metadata": {},
   "outputs": [],
   "source": [
    "import sys\n",
    "sys.path.append('..')\n",
    "\n",
    "from launch_experiments import *"
   ]
  },
  {
   "cell_type": "code",
   "execution_count": 2,
   "metadata": {},
   "outputs": [],
   "source": [
    "import tensorflow as tf\n",
    "from tensorflow.python.client import device_lib\n",
    "# from ai_benchmark import AIBenchmark"
   ]
  },
  {
   "cell_type": "code",
   "execution_count": 3,
   "metadata": {},
   "outputs": [
    {
     "name": "stdout",
     "output_type": "stream",
     "text": [
      "Num GPUs Available:  1\n",
      "  Versión de TensorFlow: 2.10.0\n",
      "  GPU: ['device: 0, name: NVIDIA GeForce RTX 4070 Ti, pci bus id: 0000:09:00.0, compute capability: 8.9']\n",
      "  Versión Cuda  -> 64_112\n",
      "  Versión Cudnn -> 64_8\n",
      "\n"
     ]
    }
   ],
   "source": [
    "print(\"Num GPUs Available: \", len(tf.config.list_physical_devices('GPU')))\n",
    "print('  Versión de TensorFlow: {}'.format(tf.__version__))\n",
    "print('  GPU: {}'.format([x.physical_device_desc for x in device_lib.list_local_devices() if x.device_type == 'GPU']))\n",
    "print('  Versión Cuda  -> {}'.format(tf.sysconfig.get_build_info()['cuda_version']))\n",
    "print('  Versión Cudnn -> {}\\n'.format(tf.sysconfig.get_build_info()['cudnn_version']))"
   ]
  },
  {
   "cell_type": "code",
   "execution_count": null,
   "metadata": {},
   "outputs": [],
   "source": [
    "# # Benchmark to test that our GPU works\n",
    "# benchmark_gpu = AIBenchmark(use_CPU=False)\n",
    "# benchmark_gpu.run_training()"
   ]
  },
  {
   "cell_type": "code",
   "execution_count": null,
   "metadata": {},
   "outputs": [],
   "source": [
    "# benchmark_cpu = AIBenchmark(use_CPU=True)\n",
    "# benchmark_cpu.run_training()"
   ]
  },
  {
   "cell_type": "code",
   "execution_count": null,
   "metadata": {},
   "outputs": [],
   "source": [
    "gpu_test =  {'sensor' : [sensor_Mikael],\n",
    "                'N' : [96], \n",
    "                'step' : [1], \n",
    "                'PH' : [60], \n",
    "                'single_multi_step' : ['multi'],\n",
    "                'partition' : ['june-21'],\n",
    "                'normalization' : ['min-max'],\n",
    "                'under_over_sampling' : [None], \n",
    "                'model' : ['StackedLSTM'],\n",
    "                'loss_function' : ['root_mean_squared_error'], \n",
    "                }"
   ]
  },
  {
   "cell_type": "code",
   "execution_count": null,
   "metadata": {},
   "outputs": [],
   "source": [
    "print(\"We list the physical devices and we check that the CPU and a GPU are available\")\n",
    "tf.config.list_physical_devices()"
   ]
  },
  {
   "cell_type": "code",
   "execution_count": null,
   "metadata": {},
   "outputs": [],
   "source": [
    "print(\"Devices visible (the ones that TensorFlow uses):\")\n",
    "tf.config.get_visible_devices()"
   ]
  },
  {
   "cell_type": "markdown",
   "metadata": {},
   "source": [
    "## Entrenamos con CPU + GPU"
   ]
  },
  {
   "cell_type": "code",
   "execution_count": null,
   "metadata": {},
   "outputs": [],
   "source": [
    "# Take time \n",
    "t0 = time.time()\n",
    "\n",
    "launch_experiment(gpu_test, kernel_size = 3, tau=1, lr=0.0001, batch_size=4096, epochs = 1)\n",
    "\n",
    "print('Time with GPU+CPU: ', time.time() - t0)"
   ]
  },
  {
   "cell_type": "markdown",
   "metadata": {},
   "source": [
    "## Quitamos la GPU"
   ]
  },
  {
   "cell_type": "code",
   "execution_count": null,
   "metadata": {},
   "outputs": [],
   "source": [
    "print(\"We remove the GPU from the visible devices so we train just with the CPU\")\n",
    "tf.config.set_visible_devices([], 'GPU')"
   ]
  },
  {
   "cell_type": "code",
   "execution_count": 1,
   "metadata": {},
   "outputs": [
    {
     "name": "stdout",
     "output_type": "stream",
     "text": [
      "We check that the visible devices are just the CPU\n"
     ]
    },
    {
     "ename": "NameError",
     "evalue": "name 'tf' is not defined",
     "output_type": "error",
     "traceback": [
      "\u001b[1;31m---------------------------------------------------------------------------\u001b[0m",
      "\u001b[1;31mNameError\u001b[0m                                 Traceback (most recent call last)",
      "\u001b[1;32mc:\\Users\\aralmeida\\OneDrive - Universidad de Las Palmas de Gran Canaria\\Doctorado\\codigo\\CGM_forecasting\\tests\\testing_gpu_tf.ipynb Cell 13\u001b[0m line \u001b[0;36m2\n\u001b[0;32m      <a href='vscode-notebook-cell:/c%3A/Users/aralmeida/OneDrive%20-%20Universidad%20de%20Las%20Palmas%20de%20Gran%20Canaria/Doctorado/codigo/CGM_forecasting/tests/testing_gpu_tf.ipynb#X15sZmlsZQ%3D%3D?line=0'>1</a>\u001b[0m \u001b[39mprint\u001b[39m(\u001b[39m\"\u001b[39m\u001b[39mWe check that the visible devices are just the CPU\u001b[39m\u001b[39m\"\u001b[39m)\n\u001b[1;32m----> <a href='vscode-notebook-cell:/c%3A/Users/aralmeida/OneDrive%20-%20Universidad%20de%20Las%20Palmas%20de%20Gran%20Canaria/Doctorado/codigo/CGM_forecasting/tests/testing_gpu_tf.ipynb#X15sZmlsZQ%3D%3D?line=1'>2</a>\u001b[0m tf\u001b[39m.\u001b[39mconfig\u001b[39m.\u001b[39mget_visible_devices()\n",
      "\u001b[1;31mNameError\u001b[0m: name 'tf' is not defined"
     ]
    }
   ],
   "source": [
    "print(\"We check that the visible devices are just the CPU\")\n",
    "tf.config.get_visible_devices()"
   ]
  },
  {
   "cell_type": "markdown",
   "metadata": {},
   "source": [
    "## Entrenamos solo con la CPU"
   ]
  },
  {
   "cell_type": "code",
   "execution_count": null,
   "metadata": {},
   "outputs": [],
   "source": [
    "# Take time \n",
    "t0 = time.time()\n",
    "\n",
    "launch_experiment(gpu_test, kernel_size = 3, tau=1, lr=0.0001, batch_size=4096, epochs = 1)\n",
    "\n",
    "print('Time with CPU: ', time.time() - t0)"
   ]
  },
  {
   "cell_type": "code",
   "execution_count": null,
   "metadata": {},
   "outputs": [],
   "source": [
    "print(\"We set again the GPU as visible device\")\n",
    "tf.config.set_visible_devices(tf.config.list_physical_devices('GPU')[0], 'GPU')"
   ]
  },
  {
   "cell_type": "code",
   "execution_count": null,
   "metadata": {},
   "outputs": [],
   "source": [
    "print(\"Check that everything was as before\")\n",
    "tf.config.get_visible_devices()"
   ]
  }
 ],
 "metadata": {
  "kernelspec": {
   "display_name": "T1DM_WARIFA_GPU",
   "language": "python",
   "name": "python3"
  },
  "language_info": {
   "codemirror_mode": {
    "name": "ipython",
    "version": 3
   },
   "file_extension": ".py",
   "mimetype": "text/x-python",
   "name": "python",
   "nbconvert_exporter": "python",
   "pygments_lexer": "ipython3",
   "version": "3.10.13"
  }
 },
 "nbformat": 4,
 "nbformat_minor": 2
}
