{
 "cells": [
  {
   "cell_type": "code",
   "execution_count": null,
   "metadata": {},
   "outputs": [],
   "source": [
    "import os \n",
    "import pandas as pd\n",
    "import numpy as np \n",
    "import matplotlib.pyplot as plt\n",
    "import time \n",
    "import pickle\n",
    "import warnings\n",
    "\n",
    "\n",
    "from utils import *\n",
    "\n",
    "from sensor_params import *\n",
    "from models.unet1D_regressor import *\n",
    "from models.training import *\n",
    "\n",
    "# Dataset path \n",
    "DATABASE_PATH = r\"C:\\Users\\aralmeida\\OneDrive - Universidad de Las Palmas de Gran Canaria\\Doctorado\\Bases de datos\\WARIFA\\Mikael T1DM\"\n",
    "\n",
    "filename = \"MIKAEL_data.json\"\n",
    "\n",
    "parent_directory = r\"C:\\Users\\aralmeida\\Downloads\"\n",
    "experiments_folder = r\"\\T1DM_pred_experiments\" "
   ]
  },
  {
   "cell_type": "code",
   "execution_count": null,
   "metadata": {},
   "outputs": [],
   "source": [
    "# Load data from sgv_data. If executed, comment the line and load the data from the pickle file\n",
    "# data , basal_data_dict, blood_pressure_dict, bolus_data_dict, exercise_data_dict, carbohydrates_data_dict, pump_events_data_dict, sgv_data_dict, sleep_data_dict, smgb_data_dict, steps_data_dict, weight_dict  = extract_Mikael_data(DATABASE_PATH, filename, ONLY_CGM = True)\n",
    "with open(DATABASE_PATH+'\\CGM.pk1', 'rb') as f:\n",
    "    sgv_data_dict = pickle.load(f)\n",
    "os.chdir(parent_directory)"
   ]
  },
  {
   "cell_type": "code",
   "execution_count": null,
   "metadata": {},
   "outputs": [],
   "source": [
    "N = 48\n",
    "tau = 1\n",
    "PH = 5"
   ]
  },
  {
   "cell_type": "code",
   "execution_count": null,
   "metadata": {},
   "outputs": [],
   "source": [
    "X, Y, X_times, Y_times = get_CGM_X_Y(sgv_data_dict, sensor_Mikael, N, tau, PH, experiments_folder, verbose = 0)"
   ]
  },
  {
   "cell_type": "code",
   "execution_count": null,
   "metadata": {},
   "outputs": [],
   "source": [
    "os.getcwd()"
   ]
  },
  {
   "cell_type": "code",
   "execution_count": null,
   "metadata": {},
   "outputs": [],
   "source": [
    "# # In case the dataset were already generated\n",
    "# # Read npy files\n",
    "# X = np.load('X.npy', allow_pickle=True)\n",
    "# Y = np.load('Y.npy', allow_pickle=True)\n",
    "# X_times = np.load('X_times.npy', allow_pickle=True)\n",
    "# Y_times = np.load('Y_times.npy', allow_pickle=True)"
   ]
  },
  {
   "cell_type": "code",
   "execution_count": null,
   "metadata": {},
   "outputs": [],
   "source": [
    "# Convert np.arrays to float32 to convert them to Tensorflow tensors\n",
    "X = X.astype(np.float32)\n",
    "Y = Y.astype(np.float32)"
   ]
  },
  {
   "cell_type": "code",
   "execution_count": null,
   "metadata": {},
   "outputs": [],
   "source": [
    "# Dictionary to save the partitions \n",
    "training_partitions = {}\n",
    "\n",
    "month_wise_4fold_cv(N, X, Y, X_times, training_partitions, \n",
    "                        shuffle=True, verbose=1)"
   ]
  },
  {
   "cell_type": "code",
   "execution_count": null,
   "metadata": {},
   "outputs": [],
   "source": [
    "# Parameters for training\n",
    "# Best parameters for the model\n",
    "lr = 0.0001\n",
    "batch_size = 2\n",
    "epochs = 10\n",
    "\n",
    "kernel_size = 3"
   ]
  },
  {
   "cell_type": "code",
   "execution_count": null,
   "metadata": {},
   "outputs": [],
   "source": [
    "# Save only 5 first instances of X and Y\n",
    "X_polla = training_partitions['month_wise_4fold_cv']['partitioned_dataset']['1-fold'][\"X_train\"][:5]\n",
    "Y_polla = training_partitions['month_wise_4fold_cv']['partitioned_dataset']['1-fold'][\"Y_train\"][:5]"
   ]
  },
  {
   "cell_type": "code",
   "execution_count": null,
   "metadata": {},
   "outputs": [],
   "source": [
    "# Train and save the models for the 4 folds\n",
    "for fold in training_partitions['month_wise_4fold_cv']['partitioned_dataset']:\n",
    "    train_model(X = X_polla,#training_partitions['month_wise_4fold_cv']['partitioned_dataset'][fold][\"X_train\"],\n",
    "                Y = Y_polla,#training_partitions['month_wise_4fold_cv']['partitioned_dataset'][fold][\"Y_train\"],\n",
    "                N = N,\n",
    "                tau = tau,\n",
    "                kernel_size = kernel_size,\n",
    "                predicted_points = sensor_Mikael[\"PREDICTED_POINTS\"],\n",
    "                sensor_name = sensor_Mikael,\n",
    "                epochs = epochs,\n",
    "                batch_size = batch_size,\n",
    "                lr = lr,\n",
    "                verbose = 1, \n",
    "                fold = fold)"
   ]
  },
  {
   "cell_type": "code",
   "execution_count": null,
   "metadata": {},
   "outputs": [],
   "source": [
    "training_partitions['month_wise_4fold_cv']['partitioned_dataset']['1-fold'].keys()"
   ]
  },
  {
   "cell_type": "code",
   "execution_count": null,
   "metadata": {},
   "outputs": [],
   "source": [
    "# Create 'evaluation' folder is it does not exist \n",
    "if not os.path.exists(os.getcwd()+r\"\\evaluation\"):\n",
    "    os.mkdir(os.getcwd()+r\"\\evaluation\")\n",
    "\n",
    "# Create keys in the dictionary for the test in the 4 folds if not already created\n",
    "for fold in training_partitions['month_wise_4fold_cv']['partitioned_dataset']:\n",
    "    if \"Y_pred\" not in training_partitions['month_wise_4fold_cv']['partitioned_dataset'][fold].keys(): \n",
    "        training_partitions['month_wise_4fold_cv']['partitioned_dataset'][fold][\"Y_pred\"] = {}#np.empty(len(training_partitions['month_wise_4fold_cv']['partitioned_dataset'][fold][\"Y_test\"]))\n",
    "    if \"RMSE\" not in training_partitions['month_wise_4fold_cv']['partitioned_dataset'][fold].keys(): \n",
    "        training_partitions['month_wise_4fold_cv']['partitioned_dataset'][fold][\"RMSE\"] = {}\n",
    "    if \"ISO\" not in training_partitions['month_wise_4fold_cv']['partitioned_dataset'][fold].keys(): \n",
    "        training_partitions['month_wise_4fold_cv']['partitioned_dataset'][fold][\"ISO\"] = {}\n",
    "    if \"Parker\" not in training_partitions['month_wise_4fold_cv']['partitioned_dataset'][fold].keys(): \n",
    "        training_partitions['month_wise_4fold_cv']['partitioned_dataset'][fold][\"Parker\"] = {}"
   ]
  },
  {
   "cell_type": "code",
   "execution_count": null,
   "metadata": {},
   "outputs": [],
   "source": [
    "# Evaluate the models for the 4 folds\n",
    "for fold in training_partitions['month_wise_4fold_cv']['partitioned_dataset']:\n",
    "\n",
    "    # Declare variables aiming code readibility \n",
    "    X_test = training_partitions['month_wise_4fold_cv']['partitioned_dataset'][fold][\"X_test\"]\n",
    "    Y_test = training_partitions['month_wise_4fold_cv']['partitioned_dataset'][fold][\"Y_test\"]\n",
    "    \n",
    "    model = tf.keras.models.load_model(str(fold)+'.h5')\n",
    "    Y_pred = model.predict(X_test)\n",
    "    training_partitions['month_wise_4fold_cv']['partitioned_dataset'][fold][\"Y_pred\"] = Y_pred  \n",
    "\n",
    "    # Compute the RMSE\n",
    "    training_partitions['month_wise_4fold_cv']['partitioned_dataset'][fold][\"RMSE\"] = np.sqrt(np.mean((Y_test - Y_pred)**2))\n",
    "\n",
    "    # Mean and std of the RMSE\n",
    "    rmse_mean = np.mean(training_partitions['month_wise_4fold_cv']['partitioned_dataset'][fold][\"RMSE\"])\n",
    "    rmse_std = np.std(training_partitions['month_wise_4fold_cv']['partitioned_dataset'][fold][\"RMSE\"])\n",
    "    print(str(fold)+ \" Test RMSE:  \", rmse_mean, \"±\", rmse_std)\n",
    "\n",
    "    # Go to the evaluation folder\n",
    "    os.chdir(os.getcwd()+r\"\\evaluation\")\n",
    "\n",
    "    # Remove second dimension of Y_pred and Y_test to compute the metrics\n",
    "    Y_pred = np.squeeze(Y_pred)\n",
    "    Y_test = np.squeeze(Y_test)\n",
    "    \n",
    "    # Compute the metrics\n",
    "    a, b= iso_percentage_metrics(Y_test, Y_pred)\n",
    "    training_partitions['month_wise_4fold_cv']['partitioned_dataset'][fold][\"ISO\"] = a\n",
    "    training_partitions['month_wise_4fold_cv']['partitioned_dataset'][fold][\"Parker\"] = b   \n",
    "\n",
    "    a, b, c = bgISOAcceptableZone(ground_truth = Y_test, predictions = Y_pred, fold = fold, plot = True)\n",
    "    a, b, c = parkes_EGA_chart(ground_truth = Y_test, predictions = Y_pred, fold = fold)\n",
    "    \n",
    "    # Go back to the parent folder\n",
    "    os.chdir('..')"
   ]
  },
  {
   "cell_type": "code",
   "execution_count": null,
   "metadata": {},
   "outputs": [],
   "source": [
    "# Remove second dimension of Y_pred and Y_test to compute the metrics\n",
    "os.chdir('..')"
   ]
  }
 ],
 "metadata": {
  "kernelspec": {
   "display_name": "WARIFA_AI",
   "language": "python",
   "name": "python3"
  },
  "language_info": {
   "codemirror_mode": {
    "name": "ipython",
    "version": 3
   },
   "file_extension": ".py",
   "mimetype": "text/x-python",
   "name": "python",
   "nbconvert_exporter": "python",
   "pygments_lexer": "ipython3",
   "version": "3.10.9"
  },
  "orig_nbformat": 4
 },
 "nbformat": 4,
 "nbformat_minor": 2
}
