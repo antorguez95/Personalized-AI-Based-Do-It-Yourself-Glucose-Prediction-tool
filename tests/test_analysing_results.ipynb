{
 "cells": [
  {
   "cell_type": "code",
   "execution_count": 3,
   "metadata": {},
   "outputs": [],
   "source": [
    "import matplotlib.pyplot as plt\n",
    "import numpy as np\n",
    "import os \n",
    "import xlsxwriter\n",
    "import sys \n",
    "\n",
    "sys.path.append('..')\n",
    "\n",
    "from training_configs import *"
   ]
  },
  {
   "cell_type": "markdown",
   "metadata": {},
   "source": [
    "# Extract one Excel table per patient (29) and PHs (2) with all metrics per fold (mean+-std of 4-folds)"
   ]
  },
  {
   "cell_type": "code",
   "execution_count": 18,
   "metadata": {},
   "outputs": [
    {
     "name": "stdout",
     "output_type": "stream",
     "text": [
      "30\n",
      "60\n"
     ]
    }
   ],
   "source": [
    "models = N_patients_N_models_DL['model']\n",
    "metrics = ['RMSE', 'MAE', 'MAPE', '% Parkes AB', '% ISO']\n",
    "N = N_patients_N_models_DL['N']\n",
    "PHs = N_patients_N_models_DL['PH']\n",
    "\n",
    "\n",
    "for PH in N_patients_N_models_DL['PH']:\n",
    "\n",
    "    print(PH)\n",
    "\n",
    "    filename = 'results_' + str(PH) + 'min.xlsx'\n",
    "    \n",
    "    # Create an Excel file\n",
    "    workbook = xlsxwriter.Workbook(filename)\n",
    "\n",
    "    for model in  N_patients_N_models_DL['model']: \n",
    "        \n",
    "        # Add worksheet corresponding to the current model \n",
    "        worksheet = workbook.add_worksheet(model)\n",
    "\n",
    "        # Write the headers of the worksheet\n",
    "        worksheet.write(0, 0, 'Patient')\n",
    "        worksheet.write(0, 1, '001')\n",
    "        \n",
    "        worksheet.write(1, 0, 'PH')\n",
    "        worksheet.write(1, 1,  PH)\n",
    "        \n",
    "        worksheet.write(3, 3, 'RMSE')\n",
    "        worksheet.write(3, 6, 'MAE')\n",
    "        worksheet.write(3, 9, 'MAPE')\n",
    "        worksheet.write(3, 12, '% Parkes AB')\n",
    "        worksheet.write(3, 15, '% ISO')\n",
    "\n",
    "        worksheet.write(4, 1, 'N')\n",
    "\n",
    "        worksheet.write(5, 1, '1-fold')\n",
    "        worksheet.write(6, 1, '2-fold')\n",
    "        worksheet.write(7, 1, '3-fold')\n",
    "        worksheet.write(8, 1, '4-fold')\n",
    "        worksheet.write(9, 1, 'mean ± std')\n",
    "\n",
    "\n",
    "\n",
    "\n",
    "        # Write the results of the current model\n",
    "        for i in range(len(N)): \n",
    "            worksheet.write(i+1, 0, i+1)\n",
    "            worksheet.write(i+1, 1, PHs[i])\n",
    "            for j in range(len(metrics)): \n",
    "                worksheet.write(i+1, j+2, 69)\n",
    "        \n",
    "        # Write the average results of the current model\n",
    "        worksheet.write(N+2, 0, 'Average')\n",
    "        worksheet.write(N+2, 1, ' ')\n",
    "        for j in range(len(metrics)): \n",
    "            worksheet.write(N+2, j+2, 69)\n",
    "        \n",
    "        # Write the standard deviation of the current model\n",
    "        worksheet.write(N+3, 0, 'Standard deviation')\n",
    "        worksheet.write(N+3, 1, ' ')\n",
    "\n",
    "        for j in range(len(metrics)):\n",
    "            worksheet.write(N+3, j+2, 69)\n",
    "\n",
    "    \n",
    "\n",
    "    # save excel file \n",
    "    workbook.close()\n"
   ]
  },
  {
   "cell_type": "markdown",
   "metadata": {},
   "source": [
    "# Boxplot of the 5 metrics considering the best case of 29 patients "
   ]
  },
  {
   "cell_type": "code",
   "execution_count": null,
   "metadata": {},
   "outputs": [],
   "source": [
    "# Create an Excel file\n",
    "workbook = xlsxwriter.Workbook('global_results.xlsx')"
   ]
  },
  {
   "cell_type": "code",
   "execution_count": null,
   "metadata": {},
   "outputs": [],
   "source": [
    "rmse = [34.0, 33.0, 32.0, 31.0, 30.0, 29.0, 28.0, 27.0, 26.0, 25.0]\n",
    "mape = [88.0, 65.3, 88.3, 77.8, 99.9]\n",
    "mae = [25.0, 24.0, 23.0, 22.0, 21.0, 20.0, 19.0, 18.0, 17.0, 16.0]\n",
    "parkes = [99, 78, 98, 97, 98]\n",
    "iso = [76, 55, 45, 80, 88]\n",
    "\n",
    "# boxplot for all metrics\n",
    "fig, ax = plt.subplots()\n",
    "ax.boxplot([rmse, mape, mae, parkes, iso], showmeans=True)\n",
    "ax.set_xticklabels(['RMSE', 'MAPE', 'MAE', 'Parkes', 'ISO'])\n",
    "ax.set_ylabel('MAPE, MAE, RAMSE')\n",
    "ax.set_title('Boxplot of all metrics')\n",
    "\n",
    "# add a second y axis for parkes and iso on the right \n",
    "ax2 = ax.twinx()\n",
    "ax2.set_ylim(ax.get_ylim())\n",
    "ax2.set_yticks(ax.get_yticks())\n",
    "ax2.set_ylabel('Parkes and ISO %')\n",
    "\n",
    "\n",
    "\n",
    "plt.show()\n",
    "\n",
    "\n"
   ]
  },
  {
   "cell_type": "markdown",
   "metadata": {},
   "source": [
    "# Extract best metrics of each ID (5 figures in total). Nº samples vs. best metrics"
   ]
  },
  {
   "cell_type": "code",
   "execution_count": null,
   "metadata": {},
   "outputs": [],
   "source": [
    "n_samples = [10000, 20000, 30000, 40000, 50000]\n",
    "n_params = np.array([40000, 60000, 30000, 200000, 20000])\n",
    "\n",
    "mae = [30.1, 22.3, 45.7, 66.1, 15.4]\n",
    "rmse = [43.5, 12.3, 34.5, 98.9, 50.0]\n",
    "mape = [15.4, 55.4, 22.3, 99.1, 23.4]\n",
    "parkes = [99, 99, 95, 99, 100]\n",
    "iso = [90, 70, 60, 50, 20]\n",
    "\n",
    "metrics = [mae, rmse, mape, parkes, iso]\n",
    "\n",
    "model_color_dict = {'LSTM' : 'b', \n",
    "                    'Stacked-LSTM' : 'g',\n",
    "                    '1D-UNET' : 'r',\n",
    "                    '1D-UNET-non-compressed' : 'k',\n",
    "                    '1D-UNET-DIL' : 'm'}\n",
    "\n",
    "best_model_colours = [model_color_dict['Stacked-LSTM'], model_color_dict['1D-UNET-non-compressed'], model_color_dict['LSTM'], model_color_dict['1D-UNET'], model_color_dict['1D-UNET-DIL']]\n",
    "\n",
    "for metric in metrics: \n",
    "\n",
    "    plt.figure()\n",
    "    # Plot the n_samples vs rmse, and the points are bigger if n_params is larger\n",
    "    plt.scatter(n_samples, metric, s=n_params/2000, c=best_model_colours ,label='RMSE')\n",
    "    plt.xlabel('Samples used to train and validate the model')\n",
    "\n",
    "    if metric == mae: \n",
    "        plt.ylabel('MAE (mg/dL)', fontsize=14)\n",
    "    elif metric == rmse:\n",
    "        plt.ylabel('RMSE (mg/dL)', fontsize=14)\n",
    "    elif metric == mape:\n",
    "        plt.ylabel('MAPE (%)', fontsize=14)\n",
    "    elif metric == parkes:\n",
    "        plt.ylabel('Parkes (%)', fontsize=14)\n",
    "    elif metric == iso:\n",
    "        plt.ylabel('ISO (%)', fontsize=14)\n",
    "    \n",
    "    # # Plot legend of the model names depending on the colour\n",
    "    # for model in model_color_dict.keys():\n",
    "    #     plt.scatter([], [], c=model_color_dict[model], s=100, label=model)\n",
    "    # plt.legend(loc='upper right', scatterpoints=1, frameon=False, labelspacing=1, title='Models', fontsize=12)\n",
    "\n",
    "    # # plot legend over the figure\n",
    "    # plt.legend(loc='upper right', scatterpoints=1, frameon=False, labelspacing=1, title='Models', fontsize=12)"
   ]
  },
  {
   "cell_type": "code",
   "execution_count": null,
   "metadata": {},
   "outputs": [],
   "source": []
  }
 ],
 "metadata": {
  "kernelspec": {
   "display_name": "T1DM_WARIFA_GPU",
   "language": "python",
   "name": "python3"
  },
  "language_info": {
   "codemirror_mode": {
    "name": "ipython",
    "version": 3
   },
   "file_extension": ".py",
   "mimetype": "text/x-python",
   "name": "python",
   "nbconvert_exporter": "python",
   "pygments_lexer": "ipython3",
   "version": "3.10.9"
  }
 },
 "nbformat": 4,
 "nbformat_minor": 2
}
