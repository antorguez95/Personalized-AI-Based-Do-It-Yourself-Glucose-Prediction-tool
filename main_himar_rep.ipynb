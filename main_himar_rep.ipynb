{
 "cells": [
  {
   "cell_type": "code",
   "execution_count": null,
   "metadata": {},
   "outputs": [],
   "source": [
    "import os \n",
    "import pandas as pd\n",
    "import numpy as np \n",
    "import matplotlib.pyplot as plt\n",
    "import time \n",
    "import pickle\n",
    "import warnings\n",
    "\n",
    "from utils import *\n",
    "\n",
    "from sensor_params import *\n",
    "\n",
    "from models.training import *\n",
    "\n",
    "from models.unet1D_regressor import *\n",
    "from models.unet1D_regressor import get_model as get_unet1D\n",
    "\n",
    "from models.unet1D_DIL_regressor import *\n",
    "from models.unet1D_DIL_regressor import get_model as get_DIL_unet1D\n",
    "\n",
    "from models.LSTMVanilla import *\n",
    "from models.LSTMVanilla import get_model as get_LSTM\n",
    "\n",
    "from models.unet1D_LSTM_regressor import *\n",
    "from models.unet1D_LSTM_regressor import get_model as get_unet1DLSTM\n",
    "\n",
    "from models.unet1D_nonCompres_regressor import *\n",
    "from models.unet1D_nonCompres_regressor import get_model as get_unet1D_nonCompres\n",
    "\n",
    "\n",
    "# Dataset path \n",
    "DATABASE_PATH = r\"C:\\Users\\aralmeida\\OneDrive - Universidad de Las Palmas de Gran Canaria\\Doctorado\\Bases de datos\\WARIFA\\Mikael T1DM\"\n",
    "\n",
    "filename = \"MIKAEL_data.json\"\n",
    "\n",
    "parent_directory = r\"C:\\Users\\aralmeida\\Downloads\"\n",
    "experiments_folder = r\"\\T1DM_pred_experiments\" "
   ]
  },
  {
   "cell_type": "code",
   "execution_count": null,
   "metadata": {},
   "outputs": [],
   "source": [
    "# Load data from sgv_data. If executed, comment the line and load the data from the pickle file\n",
    "# data , basal_data_dict, blood_pressure_dict, bolus_data_dict, exercise_data_dict, carbohydrates_data_dict, pump_events_data_dict, sgv_data_dict, sleep_data_dict, smgb_data_dict, steps_data_dict, weight_dict  = extract_Mikael_data(DATABASE_PATH, filename, ONLY_CGM = True)\n",
    "with open(DATABASE_PATH+'\\CGM.pk1', 'rb') as f:\n",
    "    sgv_data_dict = pickle.load(f)\n",
    "os.chdir(parent_directory)"
   ]
  },
  {
   "cell_type": "code",
   "execution_count": null,
   "metadata": {},
   "outputs": [],
   "source": [
    "N = 144\n",
    "tau = 1\n",
    "PH = 30\n",
    "pred_steps = 6\n",
    "name = '1DUNET-non-compres_himar-rep'"
   ]
  },
  {
   "cell_type": "code",
   "execution_count": null,
   "metadata": {},
   "outputs": [],
   "source": [
    "X, Y, X_times, Y_times = get_CGM_X_Y(sgv_data_dict, sensor_Mikael, N, tau, PH, experiments_folder, plot=False, verbose = 0)"
   ]
  },
  {
   "cell_type": "code",
   "execution_count": null,
   "metadata": {},
   "outputs": [],
   "source": [
    "# Convert np.arrays to float32 to convert them to Tensorflow tensors\n",
    "X = X.astype(np.float32)\n",
    "Y = Y.astype(np.float32)"
   ]
  },
  {
   "cell_type": "code",
   "execution_count": null,
   "metadata": {},
   "outputs": [],
   "source": [
    "# Simple partition (imitating Himar work for comparison): X_train until 30/05/2021 and X_test from 31/05/2021\n",
    "# Samples that include two days are removed\n",
    "X_train = X[np.where(X_times[:,N-1] <= pd.to_datetime('2021-05-31 00:00:00'))[0]]\n",
    "Y_train = Y[np.where((Y_times[:,0] < pd.to_datetime('2021-05-30 23:59:59')))[0]]\n",
    "X_test = X[np.where((X_times[:,N-1] > pd.to_datetime('2021-06-01 00:00:00')))[0]]\n",
    "Y_test = Y[np.where((Y_times[:,0] > pd.to_datetime('2021-06-01 00:00:00')))[0]]\n",
    "\n",
    "print(\"X_train shape: \",str(X_train.shape))\n",
    "print(\"Y_train shape: \",str(Y_train.shape))\n",
    "print(\"X_test shape: \",str(X_test.shape))\n",
    "print(\"Y_test shape: \",str(Y_test.shape))"
   ]
  },
  {
   "cell_type": "code",
   "execution_count": null,
   "metadata": {},
   "outputs": [],
   "source": [
    "# Downsampling to have the same number of samples for each range (normal, hyperglycemia, hypoglycemia) in the Y vector\n",
    "severe_hypo_th = 54\n",
    "hypo_th = 70\n",
    "hyper_th = 180\n",
    "severe_hyper_th = 250\n",
    "\n",
    "# count number of Y samples > hyper \n",
    "normal_count = np.count_nonzero((Y_train >= hypo_th) & (Y_train <= hyper_th))\n",
    "print(\"Number of normal range points to train: \", normal_count)\n",
    "hyper_count = np.count_nonzero(Y_train > hyper_th)\n",
    "print(\"Number of hyperglycemia points to train: \", hyper_count)\n",
    "hypo_count = np.count_nonzero(Y_train < hypo_th)\n",
    "print(\"Number of hypoglycemia points to train: \", hypo_count)\n",
    "\n",
    "# Percentage of samples in each range \n",
    "print(\"Percentage of samples in the normal range: \", round(normal_count / Y_train.shape[0]*100, 2))\n",
    "print(\"Percentage of samples in the hyperglycamia range: \", round(hyper_count / Y_train.shape[0]*100, 2))\n",
    "print(\"Percentage of samples in the hypoglycamia range: \", round(hypo_count / Y_train.shape[0]*100, 2))"
   ]
  },
  {
   "cell_type": "code",
   "execution_count": null,
   "metadata": {},
   "outputs": [],
   "source": [
    "# Indices of the samples in each range\n",
    "normal_Y_idxs = np.where((Y_train >= hypo_th) & (Y_train <= hyper_th))[0]\n",
    "hypo_Y_idxs = np.where(Y_train < hypo_th)[0]\n",
    "hyper_Y_idxs = np.where(Y_train > hyper_th)[0]"
   ]
  },
  {
   "cell_type": "code",
   "execution_count": null,
   "metadata": {},
   "outputs": [],
   "source": [
    "# # Set a random seed for reproducibility\n",
    "# np.random.seed(42)\n",
    "\n",
    "# # Undersampling to randomly select idx from the normal values with a random seed\n",
    "# normal_Y_idxs = np.random.choice(normal_Y_idxs, size=hyper_count*2, replace=False)\n",
    "\n",
    "# # X and Y train undersampled with the obtained indices\n",
    "# X_train = np.concatenate((X_train[normal_Y_idxs], X_train[hypo_Y_idxs], X_train[hyper_Y_idxs]))\n",
    "# Y_train = np.concatenate((Y_train[normal_Y_idxs], Y_train[hypo_Y_idxs], Y_train[hyper_Y_idxs]))\n",
    "\n",
    "# # Concatenate X_train and Y_train to shuffle them in the same way\n",
    "# XY_train = np.concatenate((X_train, Y_train), axis=1)"
   ]
  },
  {
   "cell_type": "code",
   "execution_count": null,
   "metadata": {},
   "outputs": [],
   "source": [
    "print(X_train[11,143])\n",
    "print(Y_train[0,0])"
   ]
  },
  {
   "cell_type": "code",
   "execution_count": null,
   "metadata": {},
   "outputs": [],
   "source": [
    "# print(XY_train[11,143])\n",
    "# print(XY_train[0,144])"
   ]
  },
  {
   "cell_type": "code",
   "execution_count": null,
   "metadata": {},
   "outputs": [],
   "source": [
    "# # Shuffle X_Y_train\n",
    "# np.random.shuffle(XY_train)\n",
    "\n",
    "# # Split X and Y train again\n",
    "# X_train = XY_train[:,:-1]\n",
    "# Y_train = XY_train[:,-1]"
   ]
  },
  {
   "cell_type": "code",
   "execution_count": null,
   "metadata": {},
   "outputs": [],
   "source": [
    "# Parameters for training\n",
    "# Best parameters for the model N 48\n",
    "lr = 0.0001\n",
    "batch_size = 2\n",
    "epochs = 10\n",
    "\n",
    "kernel_size = 3"
   ]
  },
  {
   "cell_type": "code",
   "execution_count": null,
   "metadata": {},
   "outputs": [],
   "source": [
    "# Get model instance\n",
    "model =  get_unet1D(N=N,\n",
    "                input_features = NUMBER_OF_INPUT_SIGNALS,\n",
    "                tau=tau,\n",
    "                kernel_size=kernel_size,\n",
    "                predicted_points=6)\n",
    "\n",
    "# model =  get_unet1D_nonCompres(N=N,\n",
    "#                 input_features = NUMBER_OF_INPUT_SIGNALS,\n",
    "#                 tau=tau,\n",
    "#                 kernel_size=kernel_size,\n",
    "#                 predicted_points=1)\n",
    "\n",
    "# model =  get_DIL_unet1D(N=N,\n",
    "#                 input_features = NUMBER_OF_INPUT_SIGNALS,\n",
    "#                 tau=tau,\n",
    "#                 kernel_size=kernel_size,\n",
    "#                 dilation_rate=1,  \n",
    "#                 predicted_points=1)\n",
    "\n",
    "# model =  get_LSTM(N=int(N),\n",
    "#                 input_features = NUMBER_OF_INPUT_SIGNALS,\n",
    "#                 tau=tau,\n",
    "#                 kernel_size=kernel_size,\n",
    "#                 predicted_points=1)\n",
    "\n",
    "# model =  get_unet1DLSTM(N=N,\n",
    "#                 input_features = NUMBER_OF_INPUT_SIGNALS,\n",
    "#                 tau=tau,\n",
    "#                 kernel_size=kernel_size,\n",
    "#                 predicted_points=1)"
   ]
  },
  {
   "cell_type": "code",
   "execution_count": null,
   "metadata": {},
   "outputs": [],
   "source": [
    "train_model(model,\n",
    "            X = X_train,\n",
    "            Y = Y_train,\n",
    "            N = N,\n",
    "            tau = tau,\n",
    "            kernel_size = kernel_size,\n",
    "            predicted_points = sensor_Mikael[\"PREDICTED_POINTS\"],\n",
    "            sensor_name = sensor_Mikael,\n",
    "            epochs = epochs,\n",
    "            batch_size = batch_size,\n",
    "            lr = lr,\n",
    "            verbose = 1, \n",
    "            fold = name)"
   ]
  },
  {
   "cell_type": "code",
   "execution_count": null,
   "metadata": {},
   "outputs": [],
   "source": [
    "model_evaluation(name, X_test, Y_test)"
   ]
  }
 ],
 "metadata": {
  "kernelspec": {
   "display_name": "WARIFA_AI",
   "language": "python",
   "name": "python3"
  },
  "language_info": {
   "codemirror_mode": {
    "name": "ipython",
    "version": 3
   },
   "file_extension": ".py",
   "mimetype": "text/x-python",
   "name": "python",
   "nbconvert_exporter": "python",
   "pygments_lexer": "ipython3",
   "version": "3.10.9"
  },
  "orig_nbformat": 4
 },
 "nbformat": 4,
 "nbformat_minor": 2
}
